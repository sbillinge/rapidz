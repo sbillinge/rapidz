{
 "cells": [
  {
   "cell_type": "code",
   "execution_count": 1,
   "metadata": {},
   "outputs": [],
   "source": [
    "from rapidz import Stream"
   ]
  },
  {
   "cell_type": "code",
   "execution_count": 2,
   "metadata": {},
   "outputs": [],
   "source": [
    "from time import sleep\n",
    "import operator as op\n",
    "\n",
    "def sleepy_add(x):\n",
    "    sleep(2)\n",
    "    return op.add(x, 1)"
   ]
  },
  {
   "cell_type": "code",
   "execution_count": 3,
   "metadata": {},
   "outputs": [
    {
     "data": {
      "application/vnd.jupyter.widget-view+json": {
       "model_id": "34b4e8fee0ff46d496e5d029e1ee06c5",
       "version_major": 2,
       "version_minor": 0
      },
      "text/plain": [
       "Output()"
      ]
     },
     "metadata": {},
     "output_type": "display_data"
    }
   ],
   "source": [
    "source = Stream()\n",
    "source.map(sleepy_add).zip('serial').sink(print)"
   ]
  },
  {
   "cell_type": "code",
   "execution_count": 4,
   "metadata": {},
   "outputs": [
    {
     "name": "stdout",
     "output_type": "stream",
     "text": [
      "(1, 'serial')\n",
      "(2, 'serial')\n",
      "(3, 'serial')\n",
      "(4, 'serial')\n",
      "(5, 'serial')\n"
     ]
    }
   ],
   "source": [
    "for i in range(5):\n",
    "    source.emit(i)"
   ]
  },
  {
   "cell_type": "code",
   "execution_count": 5,
   "metadata": {},
   "outputs": [
    {
     "data": {
      "application/vnd.jupyter.widget-view+json": {
       "model_id": "ccfa05b8273b40728838a23539d6ad2a",
       "version_major": 2,
       "version_minor": 0
      },
      "text/plain": [
       "Output()"
      ]
     },
     "metadata": {},
     "output_type": "display_data"
    }
   ],
   "source": [
    "source2 = Stream()\n",
    "source2.scatter(backend='thread').map(sleepy_add).buffer(10).gather().zip('parallel').sink(print)"
   ]
  },
  {
   "cell_type": "code",
   "execution_count": 6,
   "metadata": {},
   "outputs": [
    {
     "name": "stdout",
     "output_type": "stream",
     "text": [
      "(1, 'parallel')\n",
      "(2, 'parallel')\n",
      "(3, 'parallel')\n",
      "(4, 'parallel')\n",
      "(5, 'parallel')\n"
     ]
    }
   ],
   "source": [
    "for i in range(5):\n",
    "    source2.emit(i)"
   ]
  },
  {
   "cell_type": "code",
   "execution_count": 7,
   "metadata": {},
   "outputs": [],
   "source": [
    "from dask.distributed import Client\n",
    "client = Client(processes=False)\n",
    "# open http://localhost:8787/status"
   ]
  },
  {
   "cell_type": "code",
   "execution_count": 8,
   "metadata": {},
   "outputs": [
    {
     "data": {
      "application/vnd.jupyter.widget-view+json": {
       "model_id": "49964f6ee0504756a1c0255990e6fd8c",
       "version_major": 2,
       "version_minor": 0
      },
      "text/plain": [
       "Output()"
      ]
     },
     "metadata": {},
     "output_type": "display_data"
    }
   ],
   "source": [
    "source3 = Stream()\n",
    "source3.scatter().map(sleepy_add).buffer(10).gather().zip('parallel').sink(print)"
   ]
  },
  {
   "cell_type": "code",
   "execution_count": 9,
   "metadata": {},
   "outputs": [
    {
     "name": "stdout",
     "output_type": "stream",
     "text": [
      "(1, 'parallel')\n",
      "(2, 'parallel')\n",
      "(3, 'parallel')\n",
      "(4, 'parallel')\n",
      "(5, 'parallel')\n"
     ]
    }
   ],
   "source": [
    "for i in range(5):\n",
    "    source3.emit(i)"
   ]
  },
  {
   "cell_type": "code",
   "execution_count": 10,
   "metadata": {},
   "outputs": [
    {
     "name": "stdout",
     "output_type": "stream",
     "text": [
      "(2, 'parallel')\n",
      "(4, 'parallel')\n"
     ]
    }
   ],
   "source": [
    "# Many of the existing nodes work! (in rapidz)\n",
    "source3 = Stream()\n",
    "source3.scatter().map(sleepy_add).filter(lambda x: x%2==0).buffer(10).gather().zip('parallel').sink(print)\n",
    "for i in range(5):\n",
    "    source3.emit(i)"
   ]
  },
  {
   "cell_type": "code",
   "execution_count": 11,
   "metadata": {},
   "outputs": [
    {
     "name": "stdout",
     "output_type": "stream",
     "text": [
      "((2, 0), 'serial')\n",
      "((4, 2), 'serial')\n",
      "((2, 1), 'parallel')\n",
      "((4, 3), 'parallel')\n"
     ]
    }
   ],
   "source": [
    "# joining is problematic (see https://github.com/xpdAcq/rapidz/pull/20 for active work on this)\n",
    "source3 = Stream()\n",
    "filtered_parallel = source3.map(sleepy_add).filter(lambda x: x%2==0)\n",
    "filtered_parallel.combine_latest(source3, emit_on=0).zip('serial').sink(print)\n",
    "for i in range(5):\n",
    "    source3.emit(i)\n",
    "\n",
    "source3 = Stream()\n",
    "filtered_parallel = source3.scatter().map(sleepy_add).filter(lambda x: x%2==0)\n",
    "filtered_parallel.combine_latest(source3, emit_on=0).buffer(10).gather().zip('parallel').sink(print)\n",
    "for i in range(5):\n",
    "    source3.emit(i)"
   ]
  },
  {
   "cell_type": "code",
   "execution_count": null,
   "metadata": {},
   "outputs": [],
   "source": []
  }
 ],
 "metadata": {
  "kernelspec": {
   "display_name": "Python 3",
   "language": "python",
   "name": "python3"
  },
  "language_info": {
   "codemirror_mode": {
    "name": "ipython",
    "version": 3
   },
   "file_extension": ".py",
   "mimetype": "text/x-python",
   "name": "python",
   "nbconvert_exporter": "python",
   "pygments_lexer": "ipython3",
   "version": "3.6.7"
  }
 },
 "nbformat": 4,
 "nbformat_minor": 2
}
