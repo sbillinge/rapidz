{
 "cells": [
  {
   "cell_type": "code",
   "execution_count": 1,
   "metadata": {},
   "outputs": [],
   "source": [
    "from rapidz import Stream\n",
    "from rapidz.link import link\n",
    "import operator as op"
   ]
  },
  {
   "cell_type": "code",
   "execution_count": 2,
   "metadata": {},
   "outputs": [
    {
     "name": "stdout",
     "output_type": "stream",
     "text": [
      "0\n",
      "10\n",
      "20\n"
     ]
    }
   ],
   "source": [
    "def chunk_a(stream1, stream2, **kwargs):\n",
    "    zipped = stream1.zip(stream2)\n",
    "    return locals()\n",
    "\n",
    "def chunk_b(zipped, factor=3, **kwargs):\n",
    "    z_add = zipped.starmap(op.add).map(op.mul, factor)\n",
    "    return locals()\n",
    "\n",
    "stream1 = Stream()\n",
    "stream2 = Stream()\n",
    "\n",
    "namespace = link(chunk_a, chunk_b, stream1=stream1, stream2=stream2, factor=5)\n",
    "namespace['z_add'].sink(print)\n",
    "\n",
    "for i in range(3):\n",
    "    stream1.emit(i)\n",
    "    stream2.emit(i)"
   ]
  },
  {
   "cell_type": "code",
   "execution_count": 3,
   "metadata": {},
   "outputs": [
    {
     "name": "stdout",
     "output_type": "stream",
     "text": [
      "0\n",
      "(0, 0)\n",
      "10\n",
      "(1, 1)\n",
      "20\n",
      "(2, 2)\n"
     ]
    }
   ],
   "source": [
    "# link can be recursed using the same namespace\n",
    "\n",
    "def chunk_c(zipped, **kwargs):\n",
    "    zipped.sink(print)\n",
    "    return locals()\n",
    "new_namespace = link(chunk_c, **namespace)\n",
    "\n",
    "for i in range(3):\n",
    "    stream1.emit(i)\n",
    "    stream2.emit(i)"
   ]
  },
  {
   "cell_type": "markdown",
   "metadata": {},
   "source": [
    "Link allows us to produce new pipeline instances on demand"
   ]
  }
 ],
 "metadata": {
  "kernelspec": {
   "display_name": "Python 3",
   "language": "python",
   "name": "python3"
  },
  "language_info": {
   "codemirror_mode": {
    "name": "ipython",
    "version": 3
   },
   "file_extension": ".py",
   "mimetype": "text/x-python",
   "name": "python",
   "nbconvert_exporter": "python",
   "pygments_lexer": "ipython3",
   "version": "3.6.7"
  }
 },
 "nbformat": 4,
 "nbformat_minor": 2
}
